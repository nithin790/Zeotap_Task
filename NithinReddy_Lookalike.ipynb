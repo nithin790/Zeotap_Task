{
  "cells": [
    {
      "cell_type": "code",
      "execution_count": 30,
      "metadata": {
        "colab": {
          "base_uri": "https://localhost:8080/",
          "height": 142
        },
        "id": "Jm_CAKoIrQn0",
        "outputId": "b6dec2c1-364d-4991-cf61-4d582b043964"
      },
      "outputs": [
        {
          "data": {
            "text/html": [
              "\n",
              "     <input type=\"file\" id=\"files-84e1ab04-c3a0-42a7-b84f-079debb64a35\" name=\"files[]\" multiple disabled\n",
              "        style=\"border:none\" />\n",
              "     <output id=\"result-84e1ab04-c3a0-42a7-b84f-079debb64a35\">\n",
              "      Upload widget is only available when the cell has been executed in the\n",
              "      current browser session. Please rerun this cell to enable.\n",
              "      </output>\n",
              "      <script>// Copyright 2017 Google LLC\n",
              "//\n",
              "// Licensed under the Apache License, Version 2.0 (the \"License\");\n",
              "// you may not use this file except in compliance with the License.\n",
              "// You may obtain a copy of the License at\n",
              "//\n",
              "//      http://www.apache.org/licenses/LICENSE-2.0\n",
              "//\n",
              "// Unless required by applicable law or agreed to in writing, software\n",
              "// distributed under the License is distributed on an \"AS IS\" BASIS,\n",
              "// WITHOUT WARRANTIES OR CONDITIONS OF ANY KIND, either express or implied.\n",
              "// See the License for the specific language governing permissions and\n",
              "// limitations under the License.\n",
              "\n",
              "/**\n",
              " * @fileoverview Helpers for google.colab Python module.\n",
              " */\n",
              "(function(scope) {\n",
              "function span(text, styleAttributes = {}) {\n",
              "  const element = document.createElement('span');\n",
              "  element.textContent = text;\n",
              "  for (const key of Object.keys(styleAttributes)) {\n",
              "    element.style[key] = styleAttributes[key];\n",
              "  }\n",
              "  return element;\n",
              "}\n",
              "\n",
              "// Max number of bytes which will be uploaded at a time.\n",
              "const MAX_PAYLOAD_SIZE = 100 * 1024;\n",
              "\n",
              "function _uploadFiles(inputId, outputId) {\n",
              "  const steps = uploadFilesStep(inputId, outputId);\n",
              "  const outputElement = document.getElementById(outputId);\n",
              "  // Cache steps on the outputElement to make it available for the next call\n",
              "  // to uploadFilesContinue from Python.\n",
              "  outputElement.steps = steps;\n",
              "\n",
              "  return _uploadFilesContinue(outputId);\n",
              "}\n",
              "\n",
              "// This is roughly an async generator (not supported in the browser yet),\n",
              "// where there are multiple asynchronous steps and the Python side is going\n",
              "// to poll for completion of each step.\n",
              "// This uses a Promise to block the python side on completion of each step,\n",
              "// then passes the result of the previous step as the input to the next step.\n",
              "function _uploadFilesContinue(outputId) {\n",
              "  const outputElement = document.getElementById(outputId);\n",
              "  const steps = outputElement.steps;\n",
              "\n",
              "  const next = steps.next(outputElement.lastPromiseValue);\n",
              "  return Promise.resolve(next.value.promise).then((value) => {\n",
              "    // Cache the last promise value to make it available to the next\n",
              "    // step of the generator.\n",
              "    outputElement.lastPromiseValue = value;\n",
              "    return next.value.response;\n",
              "  });\n",
              "}\n",
              "\n",
              "/**\n",
              " * Generator function which is called between each async step of the upload\n",
              " * process.\n",
              " * @param {string} inputId Element ID of the input file picker element.\n",
              " * @param {string} outputId Element ID of the output display.\n",
              " * @return {!Iterable<!Object>} Iterable of next steps.\n",
              " */\n",
              "function* uploadFilesStep(inputId, outputId) {\n",
              "  const inputElement = document.getElementById(inputId);\n",
              "  inputElement.disabled = false;\n",
              "\n",
              "  const outputElement = document.getElementById(outputId);\n",
              "  outputElement.innerHTML = '';\n",
              "\n",
              "  const pickedPromise = new Promise((resolve) => {\n",
              "    inputElement.addEventListener('change', (e) => {\n",
              "      resolve(e.target.files);\n",
              "    });\n",
              "  });\n",
              "\n",
              "  const cancel = document.createElement('button');\n",
              "  inputElement.parentElement.appendChild(cancel);\n",
              "  cancel.textContent = 'Cancel upload';\n",
              "  const cancelPromise = new Promise((resolve) => {\n",
              "    cancel.onclick = () => {\n",
              "      resolve(null);\n",
              "    };\n",
              "  });\n",
              "\n",
              "  // Wait for the user to pick the files.\n",
              "  const files = yield {\n",
              "    promise: Promise.race([pickedPromise, cancelPromise]),\n",
              "    response: {\n",
              "      action: 'starting',\n",
              "    }\n",
              "  };\n",
              "\n",
              "  cancel.remove();\n",
              "\n",
              "  // Disable the input element since further picks are not allowed.\n",
              "  inputElement.disabled = true;\n",
              "\n",
              "  if (!files) {\n",
              "    return {\n",
              "      response: {\n",
              "        action: 'complete',\n",
              "      }\n",
              "    };\n",
              "  }\n",
              "\n",
              "  for (const file of files) {\n",
              "    const li = document.createElement('li');\n",
              "    li.append(span(file.name, {fontWeight: 'bold'}));\n",
              "    li.append(span(\n",
              "        `(${file.type || 'n/a'}) - ${file.size} bytes, ` +\n",
              "        `last modified: ${\n",
              "            file.lastModifiedDate ? file.lastModifiedDate.toLocaleDateString() :\n",
              "                                    'n/a'} - `));\n",
              "    const percent = span('0% done');\n",
              "    li.appendChild(percent);\n",
              "\n",
              "    outputElement.appendChild(li);\n",
              "\n",
              "    const fileDataPromise = new Promise((resolve) => {\n",
              "      const reader = new FileReader();\n",
              "      reader.onload = (e) => {\n",
              "        resolve(e.target.result);\n",
              "      };\n",
              "      reader.readAsArrayBuffer(file);\n",
              "    });\n",
              "    // Wait for the data to be ready.\n",
              "    let fileData = yield {\n",
              "      promise: fileDataPromise,\n",
              "      response: {\n",
              "        action: 'continue',\n",
              "      }\n",
              "    };\n",
              "\n",
              "    // Use a chunked sending to avoid message size limits. See b/62115660.\n",
              "    let position = 0;\n",
              "    do {\n",
              "      const length = Math.min(fileData.byteLength - position, MAX_PAYLOAD_SIZE);\n",
              "      const chunk = new Uint8Array(fileData, position, length);\n",
              "      position += length;\n",
              "\n",
              "      const base64 = btoa(String.fromCharCode.apply(null, chunk));\n",
              "      yield {\n",
              "        response: {\n",
              "          action: 'append',\n",
              "          file: file.name,\n",
              "          data: base64,\n",
              "        },\n",
              "      };\n",
              "\n",
              "      let percentDone = fileData.byteLength === 0 ?\n",
              "          100 :\n",
              "          Math.round((position / fileData.byteLength) * 100);\n",
              "      percent.textContent = `${percentDone}% done`;\n",
              "\n",
              "    } while (position < fileData.byteLength);\n",
              "  }\n",
              "\n",
              "  // All done.\n",
              "  yield {\n",
              "    response: {\n",
              "      action: 'complete',\n",
              "    }\n",
              "  };\n",
              "}\n",
              "\n",
              "scope.google = scope.google || {};\n",
              "scope.google.colab = scope.google.colab || {};\n",
              "scope.google.colab._files = {\n",
              "  _uploadFiles,\n",
              "  _uploadFilesContinue,\n",
              "};\n",
              "})(self);\n",
              "</script> "
            ],
            "text/plain": [
              "<IPython.core.display.HTML object>"
            ]
          },
          "metadata": {},
          "output_type": "display_data"
        },
        {
          "name": "stdout",
          "output_type": "stream",
          "text": [
            "Saving Transactions.csv to Transactions (1).csv\n",
            "Saving Customers.csv to Customers (1).csv\n",
            "Saving Products.csv to Products (1).csv\n"
          ]
        }
      ],
      "source": [
        "from google.colab import files\n",
        "import pandas as pd\n",
        "\n",
        "# Upload file from local system\n",
        "uploaded = files.upload()"
      ]
    },
    {
      "cell_type": "code",
      "execution_count": 31,
      "metadata": {
        "id": "SkpFL7k2r32Y"
      },
      "outputs": [],
      "source": [
        "# Now I need to load each CSV file into a pandas dataframe\n",
        "transactions_df = pd.read_csv('/content/Transactions.csv')\n",
        "customers_df = pd.read_csv('/content/Customers.csv')\n",
        "products_df = pd.read_csv('/content/Products.csv')\n"
      ]
    },
    {
      "cell_type": "code",
      "execution_count": 32,
      "metadata": {
        "colab": {
          "base_uri": "https://localhost:8080/"
        },
        "id": "kTcq4yHDr3xR",
        "outputId": "08f4b0ea-633b-43fd-8c7d-d7a467c2faee"
      },
      "outputs": [
        {
          "name": "stdout",
          "output_type": "stream",
          "text": [
            "Transactions DataFrame:\n",
            "  TransactionID CustomerID ProductID      TransactionDate  Quantity  \\\n",
            "0        T00001      C0199      P067  2024-08-25 12:38:23         1   \n",
            "1        T00112      C0146      P067  2024-05-27 22:23:54         1   \n",
            "2        T00166      C0127      P067  2024-04-25 07:38:55         1   \n",
            "3        T00272      C0087      P067  2024-03-26 22:55:37         2   \n",
            "4        T00363      C0070      P067  2024-03-21 15:10:10         3   \n",
            "\n",
            "   TotalValue   Price  \n",
            "0      300.68  300.68  \n",
            "1      300.68  300.68  \n",
            "2      300.68  300.68  \n",
            "3      601.36  300.68  \n",
            "4      902.04  300.68  \n",
            "\n",
            "Customers DataFrame:\n",
            "  CustomerID        CustomerName         Region  SignupDate\n",
            "0      C0001    Lawrence Carroll  South America  2022-07-10\n",
            "1      C0002      Elizabeth Lutz           Asia  2022-02-13\n",
            "2      C0003      Michael Rivera  South America  2024-03-07\n",
            "3      C0004  Kathleen Rodriguez  South America  2022-10-09\n",
            "4      C0005         Laura Weber           Asia  2022-08-15\n",
            "\n",
            "Products DataFrame:\n",
            "  ProductID              ProductName     Category   Price\n",
            "0      P001     ActiveWear Biography        Books  169.30\n",
            "1      P002    ActiveWear Smartwatch  Electronics  346.30\n",
            "2      P003  ComfortLiving Biography        Books   44.12\n",
            "3      P004            BookWorld Rug   Home Decor   95.69\n",
            "4      P005          TechPro T-Shirt     Clothing  429.31\n"
          ]
        }
      ],
      "source": [
        "# Displaying the first few rows of each dataframe\n",
        "print(\"Transactions DataFrame:\")\n",
        "print(transactions_df.head())\n",
        "\n",
        "print(\"\\nCustomers DataFrame:\")\n",
        "print(customers_df.head())\n",
        "\n",
        "print(\"\\nProducts DataFrame:\")\n",
        "print(products_df.head())"
      ]
    },
    {
      "cell_type": "code",
      "execution_count": 33,
      "metadata": {
        "id": "rRDo4XPzr3uo"
      },
      "outputs": [],
      "source": [
        "# Importing necessary libraries\n",
        "import pandas as pd\n",
        "from sklearn.metrics.pairwise import cosine_similarity"
      ]
    },
    {
      "cell_type": "code",
      "execution_count": 34,
      "metadata": {
        "id": "U13r8ppir3rh"
      },
      "outputs": [],
      "source": [
        "# Preprocessing: Merge datasets for analysis purpose\n",
        "merged_df = transactions_df.merge(customers_df, on='CustomerID').merge(products_df, on='ProductID')\n"
      ]
    },
    {
      "cell_type": "code",
      "execution_count": 35,
      "metadata": {
        "id": "Wea5Hlf6r3o1"
      },
      "outputs": [],
      "source": [
        "# Displaying the first few rows of each dataset to analyze their structure\n",
        "transactions_head = transactions_df.head()\n",
        "customers_head = customers_df.head()\n",
        "products_head = products_df.head()"
      ]
    },
    {
      "cell_type": "code",
      "execution_count": 36,
      "metadata": {
        "colab": {
          "base_uri": "https://localhost:8080/"
        },
        "id": "TYJvXVkbr3lh",
        "outputId": "567a14f6-0199-41f7-d037-2a4187686e2e"
      },
      "outputs": [
        {
          "name": "stdout",
          "output_type": "stream",
          "text": [
            "<class 'pandas.core.frame.DataFrame'>\n",
            "RangeIndex: 1000 entries, 0 to 999\n",
            "Data columns (total 7 columns):\n",
            " #   Column           Non-Null Count  Dtype  \n",
            "---  ------           --------------  -----  \n",
            " 0   TransactionID    1000 non-null   object \n",
            " 1   CustomerID       1000 non-null   object \n",
            " 2   ProductID        1000 non-null   object \n",
            " 3   TransactionDate  1000 non-null   object \n",
            " 4   Quantity         1000 non-null   int64  \n",
            " 5   TotalValue       1000 non-null   float64\n",
            " 6   Price            1000 non-null   float64\n",
            "dtypes: float64(2), int64(1), object(4)\n",
            "memory usage: 54.8+ KB\n",
            "<class 'pandas.core.frame.DataFrame'>\n",
            "RangeIndex: 200 entries, 0 to 199\n",
            "Data columns (total 4 columns):\n",
            " #   Column        Non-Null Count  Dtype \n",
            "---  ------        --------------  ----- \n",
            " 0   CustomerID    200 non-null    object\n",
            " 1   CustomerName  200 non-null    object\n",
            " 2   Region        200 non-null    object\n",
            " 3   SignupDate    200 non-null    object\n",
            "dtypes: object(4)\n",
            "memory usage: 6.4+ KB\n",
            "<class 'pandas.core.frame.DataFrame'>\n",
            "RangeIndex: 100 entries, 0 to 99\n",
            "Data columns (total 4 columns):\n",
            " #   Column       Non-Null Count  Dtype  \n",
            "---  ------       --------------  -----  \n",
            " 0   ProductID    100 non-null    object \n",
            " 1   ProductName  100 non-null    object \n",
            " 2   Category     100 non-null    object \n",
            " 3   Price        100 non-null    float64\n",
            "dtypes: float64(1), object(3)\n",
            "memory usage: 3.3+ KB\n"
          ]
        }
      ],
      "source": [
        "# Here I need to get basic information about each dataset to work further in detail\n",
        "transactions_info = transactions_df.info()\n",
        "customers_info = customers_df.info()\n",
        "products_info = products_df.info()"
      ]
    },
    {
      "cell_type": "code",
      "execution_count": 37,
      "metadata": {
        "id": "kArlRmiQr3iI"
      },
      "outputs": [],
      "source": [
        "\n",
        "# Check if there are any missing values in the datasets\n",
        "transactions_missing = transactions_df.isnull().sum()\n",
        "customers_missing = customers_df.isnull().sum()\n",
        "products_missing = products_df.isnull().sum()"
      ]
    },
    {
      "cell_type": "code",
      "execution_count": 38,
      "metadata": {
        "colab": {
          "base_uri": "https://localhost:8080/"
        },
        "id": "0mGMWfstr3fD",
        "outputId": "acdca2db-6acb-4c40-ac23-5d6ec578368c"
      },
      "outputs": [
        {
          "data": {
            "text/plain": [
              "(  TransactionID CustomerID ProductID      TransactionDate  Quantity  \\\n",
              " 0        T00001      C0199      P067  2024-08-25 12:38:23         1   \n",
              " 1        T00112      C0146      P067  2024-05-27 22:23:54         1   \n",
              " 2        T00166      C0127      P067  2024-04-25 07:38:55         1   \n",
              " 3        T00272      C0087      P067  2024-03-26 22:55:37         2   \n",
              " 4        T00363      C0070      P067  2024-03-21 15:10:10         3   \n",
              " \n",
              "    TotalValue   Price  \n",
              " 0      300.68  300.68  \n",
              " 1      300.68  300.68  \n",
              " 2      300.68  300.68  \n",
              " 3      601.36  300.68  \n",
              " 4      902.04  300.68  ,\n",
              "   CustomerID        CustomerName         Region  SignupDate\n",
              " 0      C0001    Lawrence Carroll  South America  2022-07-10\n",
              " 1      C0002      Elizabeth Lutz           Asia  2022-02-13\n",
              " 2      C0003      Michael Rivera  South America  2024-03-07\n",
              " 3      C0004  Kathleen Rodriguez  South America  2022-10-09\n",
              " 4      C0005         Laura Weber           Asia  2022-08-15,\n",
              "   ProductID              ProductName     Category   Price\n",
              " 0      P001     ActiveWear Biography        Books  169.30\n",
              " 1      P002    ActiveWear Smartwatch  Electronics  346.30\n",
              " 2      P003  ComfortLiving Biography        Books   44.12\n",
              " 3      P004            BookWorld Rug   Home Decor   95.69\n",
              " 4      P005          TechPro T-Shirt     Clothing  429.31,\n",
              " TransactionID      0\n",
              " CustomerID         0\n",
              " ProductID          0\n",
              " TransactionDate    0\n",
              " Quantity           0\n",
              " TotalValue         0\n",
              " Price              0\n",
              " dtype: int64,\n",
              " CustomerID      0\n",
              " CustomerName    0\n",
              " Region          0\n",
              " SignupDate      0\n",
              " dtype: int64,\n",
              " ProductID      0\n",
              " ProductName    0\n",
              " Category       0\n",
              " Price          0\n",
              " dtype: int64)"
            ]
          },
          "execution_count": 38,
          "metadata": {},
          "output_type": "execute_result"
        }
      ],
      "source": [
        "transactions_head, customers_head, products_head, transactions_missing, customers_missing, products_missing"
      ]
    },
    {
      "cell_type": "code",
      "execution_count": 39,
      "metadata": {
        "id": "G3iPG3Xjr3cS"
      },
      "outputs": [],
      "source": [
        "# Preprocessing: Merge datasets for analysis\n",
        "merged_df = transactions_df.merge(customers_df, on='CustomerID').merge(products_df, on='ProductID')\n"
      ]
    },
    {
      "cell_type": "code",
      "execution_count": 40,
      "metadata": {
        "id": "3dwTAxj8r3Zr"
      },
      "outputs": [],
      "source": [
        "# Aggregating data by CustomerID\n",
        "customer_features = merged_df.groupby('CustomerID').agg({\n",
        "    'TotalValue': 'sum',\n",
        "    'Quantity': 'sum',\n",
        "    'ProductID': 'nunique'  # Number of unique products purchased\n",
        "}).reset_index()\n"
      ]
    },
    {
      "cell_type": "code",
      "execution_count": 41,
      "metadata": {
        "id": "0Imo2kz5r3Wo"
      },
      "outputs": [],
      "source": [
        "# Handling potential missing values\n",
        "customer_features.fillna(0, inplace=True)\n",
        "\n",
        "# Setting CustomerID as index for similarity calculation\n",
        "customer_features.set_index('CustomerID', inplace=True)\n",
        "\n",
        "# Here now I will Compute similarity matrix\n",
        "similarity_matrix = cosine_similarity(customer_features)\n",
        "similarity_df = pd.DataFrame(similarity_matrix, index=customer_features.index, columns=customer_features.index)\n"
      ]
    },
    {
      "cell_type": "code",
      "execution_count": 42,
      "metadata": {
        "id": "rnD8FoR0r3Tp"
      },
      "outputs": [],
      "source": [
        "# This function will be used to get top 3 lookalike customers\n",
        "def get_top_lookalikes(customer_id, top_n=3):\n",
        "    if customer_id in similarity_df.index:\n",
        "        similar_customers = similarity_df[customer_id].sort_values(ascending=False)[1:top_n+1]\n",
        "        return list(zip(similar_customers.index, similar_customers.values))\n",
        "    else:\n",
        "        return []"
      ]
    },
    {
      "cell_type": "code",
      "execution_count": 43,
      "metadata": {
        "colab": {
          "base_uri": "https://localhost:8080/"
        },
        "id": "cwIPCp9vr3RJ",
        "outputId": "fe9bfc89-de42-4468-9f60-cc30be07b514"
      },
      "outputs": [
        {
          "name": "stdout",
          "output_type": "stream",
          "text": [
            "Lookalike model results saved as Aditya_Kumar_Pandey_Lookalike.csv\n"
          ]
        }
      ],
      "source": [
        "# Finally I generated Lookalike.csv for first 20 customers\n",
        "lookalike_results = {}\n",
        "for customer_id in customers_df['CustomerID'].head(20):\n",
        "    lookalike_results[customer_id] = get_top_lookalikes(customer_id)\n",
        "\n",
        "lookalike_df = pd.DataFrame.from_dict(lookalike_results, orient='index', columns=['Lookalike1', 'Lookalike2', 'Lookalike3'])\n",
        "lookalike_df.to_csv('Aditya_Kumar_Pandey_Lookalike.csv')\n",
        "\n",
        "print(\"Lookalike model results saved as NithinReddy_Lookalike.csv\")"
      ]
    }
  ],
  "metadata": {
    "colab": {
      "provenance": []
    },
    "kernelspec": {
      "display_name": "Python 3",
      "name": "python3"
    },
    "language_info": {
      "name": "python"
    }
  },
  "nbformat": 4,
  "nbformat_minor": 0
}
